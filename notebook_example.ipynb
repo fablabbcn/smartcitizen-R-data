{
 "cells": [
  {
   "cell_type": "markdown",
   "id": "b98cdf0b-d35a-47fa-a895-9166ad0a4c40",
   "metadata": {},
   "source": [
    "# Notebook Example"
   ]
  },
  {
   "cell_type": "markdown",
   "id": "87d38cf2-dc46-4115-a1f2-c23bc521ce95",
   "metadata": {},
   "source": [
    "## Install"
   ]
  },
  {
   "cell_type": "code",
   "execution_count": null,
   "id": "56c50da1-d765-48ad-b124-3ed670639aad",
   "metadata": {},
   "outputs": [],
   "source": [
    "library(devtools)"
   ]
  },
  {
   "cell_type": "code",
   "execution_count": null,
   "id": "e743c0e7-429a-44a1-95a3-7a4f7c2c50e8",
   "metadata": {},
   "outputs": [],
   "source": [
    "install_github('fablabbcn/smartcitizen-R-data')"
   ]
  },
  {
   "cell_type": "markdown",
   "id": "41cb8a90-77ba-47c1-874a-1a02f7e9c050",
   "metadata": {},
   "source": [
    "## Load one device"
   ]
  },
  {
   "cell_type": "code",
   "execution_count": null,
   "id": "2ba1cc43-92b7-474e-901e-40d6f80eeaeb",
   "metadata": {},
   "outputs": [],
   "source": [
    "library(smartcitizenRdata)"
   ]
  },
  {
   "cell_type": "code",
   "execution_count": null,
   "id": "190a536f-30f9-40d8-a62c-5832c9b35d6f",
   "metadata": {},
   "outputs": [],
   "source": [
    "d <- ScDevice$new(id = 15618)"
   ]
  },
  {
   "cell_type": "code",
   "execution_count": null,
   "id": "eabd6333-f726-4cad-beb5-8550af3db087",
   "metadata": {},
   "outputs": [],
   "source": [
    "d$get_names()"
   ]
  },
  {
   "cell_type": "code",
   "execution_count": null,
   "id": "9785dc79-cb23-44b8-beac-acbc87dde9b8",
   "metadata": {},
   "outputs": [],
   "source": [
    "d$names"
   ]
  },
  {
   "cell_type": "code",
   "execution_count": null,
   "id": "0ad7962b-d1a0-49ed-90b3-ed6406b1ecbd",
   "metadata": {},
   "outputs": [],
   "source": [
    "d$get_device_data()\n"
   ]
  },
  {
   "cell_type": "code",
   "execution_count": null,
   "id": "ab98f20b-148b-469d-ad0d-bf0f72b848ef",
   "metadata": {},
   "outputs": [],
   "source": [
    "data <- d$data"
   ]
  },
  {
   "cell_type": "code",
   "execution_count": null,
   "id": "5d9c22cf-9491-4572-84fc-fc07909073dd",
   "metadata": {},
   "outputs": [],
   "source": [
    "data <- data.frame(date= index(data), coredata(data))\n",
    "data"
   ]
  },
  {
   "cell_type": "markdown",
   "id": "97e7407f-b429-44fe-b89d-db921f3acdc3",
   "metadata": {},
   "source": [
    "## Export to CSV"
   ]
  },
  {
   "cell_type": "code",
   "execution_count": null,
   "id": "558bea94-86a8-479f-8650-83e7e9613e5a",
   "metadata": {},
   "outputs": [],
   "source": [
    "write.table(data, file=sprintf(\"%s.csv\", device_id),  dec=\".\", sep =\"\\t\", col.names=T, row.names=F, append=F)\n"
   ]
  },
  {
   "cell_type": "code",
   "execution_count": null,
   "id": "f3ec53e7-1468-485d-82f1-0da91d56d62c",
   "metadata": {},
   "outputs": [],
   "source": []
  }
 ],
 "metadata": {
  "kernelspec": {
   "display_name": "R",
   "language": "R",
   "name": "ir"
  },
  "language_info": {
   "codemirror_mode": "r",
   "file_extension": ".r",
   "mimetype": "text/x-r-source",
   "name": "R",
   "pygments_lexer": "r",
   "version": "4.2.1"
  }
 },
 "nbformat": 4,
 "nbformat_minor": 5
}
